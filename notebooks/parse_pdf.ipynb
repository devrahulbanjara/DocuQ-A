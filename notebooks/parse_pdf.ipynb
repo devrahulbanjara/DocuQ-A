{
 "cells": [
  {
   "cell_type": "code",
   "execution_count": 2,
   "metadata": {},
   "outputs": [],
   "source": [
    "import pymupdf"
   ]
  },
  {
   "cell_type": "code",
   "execution_count": 9,
   "metadata": {},
   "outputs": [],
   "source": [
    "pdf_path = \"../../../Downloads/CV.pdf\"\n",
    "pdf = pymupdf.open(pdf_path)"
   ]
  },
  {
   "cell_type": "code",
   "execution_count": 10,
   "metadata": {},
   "outputs": [
    {
     "data": {
      "text/plain": [
       "Document('../../../Downloads/CV.pdf')"
      ]
     },
     "execution_count": 10,
     "metadata": {},
     "output_type": "execute_result"
    }
   ],
   "source": [
    "pdf"
   ]
  },
  {
   "cell_type": "code",
   "execution_count": 15,
   "metadata": {},
   "outputs": [
    {
     "data": {
      "text/plain": [
       "'Rahul Dev Banjara\\nÓ +977 9823527078\\nR rdbanjara07@gmail.com\\n¯ devrahulbanjara\\n\\x87 devrahulbanjara\\nSummary\\nMachine Learning Engineer with hands-on experience in developing end-to-end solutions lever-\\naging deep learning, machine learning, computer vision and natural language processing. Skilled\\nin Python, PyTorch, and TensorFlow with a solid mathematical foundation.\\nExperience\\nAI Fellowship 2024, Fusemachines\\nMarch 2024 – Sep 2024\\nFellow (Remote), New York, NY\\n• Tackled real-world problems through hands-on AI and ML projects.\\n• Experimented with CV and NLP models for innovative solutions.\\n• Developed and evaluated pipelines for deploying ML models.\\nProjects\\nDocument and Record Management\\n2024\\nA system for verifying the authenticity of Nepali documents (Citizenship, Driving License, Pass-\\nport) against a government database.\\nNepali Language Paraphraser in Devanagari\\n2024\\nDeveloped a paraphrasing tool that generates accurate Nepali text variations in Devanagari\\nscript using Transformer-based models.\\nDocuQ&A\\n2024\\nBuilt a PDF interaction tool that allows users to upload documents and query their content\\nusing AI-driven answers.\\nEducation\\nBSc (Hons) in Computer Science\\nHerald College Kathmandu\\n2023 – Present\\nHigh School Diploma (Science)\\nCapital College and Research Center\\n2020 – 2022\\nSecondary Education Examination (SEE)\\nMeridian International School\\n2010 – 2020\\n1\\nExtracurricular Activities\\nMember, AI Learners Community\\nApril 2024 – Present\\nEngaged in hands-on AI projects and community-led workshops.\\nExplored advanced concepts like Generative AI and Prompt Engineering.\\nIT Head, CCRC Prime Innovative Club\\nDec 2020 – June 2022\\nLed website development and managed digital assets for marketing.\\nDebugged and led development tasks for various web projects.\\nCertifications\\nMachine Learning Specialization – DeepLearning.AI\\nPython 3 Specialization – University of Michigan\\nSkills\\nLanguages: Python, Java\\nTools: PyTorch, TensorFlow, FastAPI, Git, MySQL\\nOther: Deep Learning, Computer Vision, NLP\\n2\\n'"
      ]
     },
     "execution_count": 15,
     "metadata": {},
     "output_type": "execute_result"
    }
   ],
   "source": [
    "text = \"\"\n",
    "for no, page in enumerate(pdf):\n",
    "    text+=page.get_text()\n",
    "    \n",
    "text"
   ]
  }
 ],
 "metadata": {
  "kernelspec": {
   "display_name": "docqa",
   "language": "python",
   "name": "python3"
  },
  "language_info": {
   "codemirror_mode": {
    "name": "ipython",
    "version": 3
   },
   "file_extension": ".py",
   "mimetype": "text/x-python",
   "name": "python",
   "nbconvert_exporter": "python",
   "pygments_lexer": "ipython3",
   "version": "3.10.0"
  }
 },
 "nbformat": 4,
 "nbformat_minor": 2
}
